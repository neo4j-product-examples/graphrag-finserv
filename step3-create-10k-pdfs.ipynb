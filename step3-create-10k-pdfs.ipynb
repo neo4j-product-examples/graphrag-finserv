{
 "cells": [
  {
   "cell_type": "markdown",
   "source": "# 10k Filings -> pdf\n",
   "metadata": {
    "collapsed": false
   }
  },
  {
   "metadata": {
    "ExecuteTime": {
     "end_time": "2024-06-16T22:38:09.568663Z",
     "start_time": "2024-06-16T22:38:07.430271Z"
    }
   },
   "cell_type": "code",
   "source": [
    "%%capture\n",
    "%pip install pandas tqdm fpdf"
   ],
   "outputs": [],
   "execution_count": 3
  },
  {
   "cell_type": "code",
   "source": [
    "import pandas as pd\n",
    "from dotenv import load_dotenv\n",
    "import os\n",
    "\n",
    "pd.set_option('display.width', 0)\n",
    "pd.set_option('display.max_colwidth', 500)\n",
    "pd.set_option('display.max_rows', 50)\n"
   ],
   "metadata": {
    "collapsed": false,
    "ExecuteTime": {
     "end_time": "2024-06-16T23:18:57.855105Z",
     "start_time": "2024-06-16T23:18:57.833177Z"
    }
   },
   "outputs": [],
   "execution_count": 31
  },
  {
   "metadata": {
    "ExecuteTime": {
     "end_time": "2024-06-16T23:18:58.417161Z",
     "start_time": "2024-06-16T23:18:58.415017Z"
    }
   },
   "cell_type": "code",
   "source": [
    "parsed_10k_dir = 'data/form10k-clean'\n",
    "pdf_dir = 'data/form10k_pdfs'"
   ],
   "outputs": [],
   "execution_count": 32
  },
  {
   "metadata": {
    "ExecuteTime": {
     "end_time": "2024-06-16T23:18:59.039052Z",
     "start_time": "2024-06-16T23:18:59.030866Z"
    }
   },
   "cell_type": "code",
   "source": [
    "import glob\n",
    "# All files and directories ending with .txt and that don't begin with a dot:\n",
    "file_list = glob.glob(os.path.join(parsed_10k_dir, '*.json'))\n",
    "file_list"
   ],
   "outputs": [
    {
     "data": {
      "text/plain": [
       "['data/form10k-clean/0001514281-23-000020.json',\n",
       " 'data/form10k-clean/0000004977-23-000055.json',\n",
       " 'data/form10k-clean/0001423689-23-000017.json']"
      ]
     },
     "execution_count": 33,
     "metadata": {},
     "output_type": "execute_result"
    }
   ],
   "execution_count": 33
  },
  {
   "metadata": {
    "ExecuteTime": {
     "end_time": "2024-06-16T23:19:55.958959Z",
     "start_time": "2024-06-16T23:19:55.907594Z"
    }
   },
   "cell_type": "code",
   "source": [
    "import json\n",
    "from tqdm import tqdm\n",
    "from fpdf import FPDF\n",
    "\n",
    "if not os.path.exists(pdf_dir):\n",
    "    os.makedirs(pdf_dir)\n",
    "\n",
    "for f10k_file in tqdm(file_list):\n",
    "    with open(f10k_file, 'r') as f:\n",
    "        f10k = json.load(f)\n",
    "        pdf_file_name = '-'.join([f10k['cusip6'], f10k['name'].replace(' ','_'), 'form10k-item1-2023.pdf'])\n",
    "        pdf = FPDF()\n",
    "        pdf.add_page()\n",
    "        pdf.set_font(\"Arial\", size = 11)\n",
    "        pdf.write(5, f10k['item1'].encode('latin-1', 'replace').decode('latin-1'))\n",
    "        pdf.output(os.path.join(pdf_dir, pdf_file_name))"
   ],
   "outputs": [
    {
     "name": "stderr",
     "output_type": "stream",
     "text": [
      "100%|██████████| 3/3 [00:00<00:00, 95.01it/s]\n"
     ]
    }
   ],
   "execution_count": 35
  }
 ],
 "metadata": {
  "kernelspec": {
   "display_name": "Python 3",
   "language": "python",
   "name": "python3"
  },
  "language_info": {
   "codemirror_mode": {
    "name": "ipython",
    "version": 2
   },
   "file_extension": ".py",
   "mimetype": "text/x-python",
   "name": "python",
   "nbconvert_exporter": "python",
   "pygments_lexer": "ipython2",
   "version": "2.7.6"
  }
 },
 "nbformat": 4,
 "nbformat_minor": 0
}
